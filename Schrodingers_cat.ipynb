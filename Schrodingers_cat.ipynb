{
 "cells": [
  {
   "cell_type": "markdown",
   "id": "89c616e4-6ab3-40be-8aa3-6e3d29a59ce2",
   "metadata": {},
   "source": [
    "# Schrödinger's cat\n",
    "In [quantum mechanics](https://en.wikipedia.org/wiki/Quantum_mechanics), Schrödinger's cat is a [thought](https://en.wikipedia.org/wiki/Thought_experiment) experiment concerning [quantum superposition](https://en.wikipedia.org/wiki/Quantum_superposition). In the thought experiment, a hypothetical cat in a closed box may be considered to be simultaneously both alive and dead while it is unobserved, as a result of its fate being linked to a random [subatomic](https://en.wikipedia.org/wiki/Subatomic_particle) event that may or may not occur. This experiment, viewed this way, is described as a [paradox](https://en.wikipedia.org/wiki/Paradox). This thought experiment was devised by physicist [Erwin Schrödinger](https://en.wikipedia.org/wiki/Erwin_Schr%C3%B6dinger) in 1935[[1]](https://en.wikipedia.org/wiki/Erwin_Schr%C3%B6dinger) in a discussion with [Albert Einstein](https://en.wikipedia.org/wiki/Albert_Einstein)[[2]](https://plato.stanford.edu/entries/qt-epr/) to illustrate what Schrödinger saw as the problems of the [Copenhagen interpretation](https://en.wikipedia.org/wiki/Copenhagen_interpretation) of quantum mechanics."
   ]
  },
  {
   "cell_type": "markdown",
   "id": "a5474c81-ea9b-4b41-a678-533c73253c15",
   "metadata": {},
   "source": [
    "![Cat](Schrodingers_cat.svg.png)\n",
    "\n",
    "> Schrödinger's cat: a cat, a flask of poison, and a [radioactive](https://en.wikipedia.org/wiki/Radioactive_decay) source connected to a [Geiger counter](https://en.wikipedia.org/wiki/Geiger_counter) are placed in a sealed box. As illustrated, the quantum description uses a superposition of an alive cat and one that has died."
   ]
  },
  {
   "cell_type": "markdown",
   "id": "32f639b7-a698-48dc-ac66-7e5bc23719fd",
   "metadata": {},
   "source": [
    "* [HTML](https://www.w3schools.com/html/html_entities.asp)\n",
    "* [MarkDownTutorial](https://www.markdowntutorial.com/)\n"
   ]
  }
 ],
 "metadata": {
  "kernelspec": {
   "display_name": "Python 3 (ipykernel)",
   "language": "python",
   "name": "python3"
  },
  "language_info": {
   "name": ""
  }
 },
 "nbformat": 4,
 "nbformat_minor": 5
}
