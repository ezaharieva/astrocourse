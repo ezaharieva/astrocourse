{
 "cells": [
  {
   "cell_type": "markdown",
   "metadata": {},
   "source": [
    "### Checking Astropy Package Information\n",
    "\n",
    "In this step, we will display detailed information about the installed version of the `astropy` Python package, including its version, dependencies, installation location, and metadata.\n",
    "```python\n",
    "!pip show astropy\n",
    "```"
   ]
  },
  {
   "cell_type": "markdown",
   "metadata": {},
   "source": [
    "### Importing Astropy and Checking Its Version\n",
    "\n",
    "Here, we will import the `astropy` package and print its version to confirm that it is installed correctly and ready for use.\n",
    "\n",
    "```python\n",
    "import astropy\n",
    "print(astropy.__version__)\n",
    "```"
   ]
  },
  {
   "cell_type": "markdown",
   "metadata": {},
   "source": [
    "### Loading FITS Data and Plotting All Stars (Basic Visualization)\n",
    "\n",
    "In this section, we will:\n",
    "\n",
    "- Import essential libraries for data analysis, WCS handling, and plotting.\n",
    "- Load data from a FITS file (`hst_results_nd.fits`).\n",
    "- Extract key information such as header details and data arrays.\n",
    "- Visualize all stars from the table using default markers.\n",
    "\n",
    "```python\n",
    "import numpy as np\n",
    "import matplotlib.pyplot as plt\n",
    "from astropy.io import fits\n",
    "from astropy.wcs import WCS\n",
    "from astropy.table import Table\n",
    "from astropy.visualization import make_lupton_rgb\n",
    "from astropy import units as u\n",
    "plt.ion()\n",
    "import os\n",
    "\n",
    "hdul = fits.open('hst_results_nd.fits')\n",
    "\n",
    "hdr = hdul[0].header\n",
    "wcs = WCS(hdr)\n",
    "data = hdul[0].data\n",
    "\n",
    "t = Table.read('hst_results_nd.fits')\n",
    "\n",
    "\n",
    "ra = t[0]['RA']\n",
    "dec = t[0]['DEC']\n",
    "age = t[\"logA_p50\"]\n",
    "mass = t[\"M_ini_p50\"]\n",
    "f475W = t[\"F475W_VEGA\"]\n",
    "f814W = t[\"F814W_VEGA\"]\n",
    "columns = t[0].colnames\n",
    "print(columns)\n",
    "\n",
    "\n",
    "plt.figure()\n",
    "plt.plot(t['RA'], t['DEC'], 'o')\n",
    "plt.xlabel('RA')\n",
    "plt.ylabel('DEC')\n",
    "plt.title('All stars in the table')\n",
    "plt.show()\n",
    "```"
   ]
  },
  {
   "cell_type": "markdown",
   "metadata": {},
   "source": [
    "![All Stars](all_stars_table.png)\n",
    "\n",
    "**Figure:** Spatial distribution of all stars using default circular markers. The plot shows RA vs. DEC coordinates, providing a general view of the stellar field."
   ]
  },
  {
   "cell_type": "markdown",
   "metadata": {},
   "source": [
    "### Plotting All Stars with Smaller Red Markers\n",
    "\n",
    "Now, we will re-plot the stars using smaller red markers. This adjustment helps distinguish stars in crowded regions more effectively.\n",
    "\n",
    "```python\n",
    "plt.figure()\n",
    "plt.plot(t['RA'], t['DEC'], 'ro', ls='None', markersize=1)\n",
    "plt.xlabel('RA')\n",
    "plt.ylabel('DEC')\n",
    "plt.title('All stars in the table (red markers)')\n",
    "plt.show()\n",
    "```"
   ]
  },
  {
   "cell_type": "markdown",
   "metadata": {},
   "source": [
    "![All stars smaller markers](all_stars.png)\n",
    "\n",
    "**Figure:** Spatial distribution of all stars from the catalog. Each star is plotted as a small red dot in Right Ascension (RA) and Declination (DEC) coordinates. The small marker size helps to distinguish individual stars, especially in dense regions of the field.\n"
   ]
  },
  {
   "cell_type": "markdown",
   "metadata": {},
   "source": [
    "### Plotting Stars Colored by Extinction (Av_p50)\n",
    "\n",
    "In this step, we will create a scatter plot where the color of each star corresponds to its extinction value (`Av_p50`).\n",
    "\n",
    "```python\n",
    "plt.figure()\n",
    "plt.scatter(t['RA'], t['DEC'], s=3, c=t['Av_p50'], cmap='magma', vmin=0, vmax=1)\n",
    "plt.xlabel('RA')\n",
    "plt.ylabel('DEC')\n",
    "plt.title('All stars in the table')\n",
    "plt.colorbar()\n",
    "plt.savefig('lmc_av_spacial.png')\n",
    "plt.show()\n",
    "```\n"
   ]
  },
  {
   "cell_type": "markdown",
   "metadata": {},
   "source": [
    "![LMC AV Spacial](lmc_av_spacial.png)\n",
    "\n",
    "**Figure:** Spatial distribution of stars color-coded by extinction (`Av_p50`). The colorbar indicates extinction values, scaled between 0 and 1 using the \"magma\" colormap.\n"
   ]
  },
  {
   "cell_type": "markdown",
   "metadata": {},
   "source": [
    "### Analyzing the Distance Distribution of Stars\n",
    "\n",
    "Next, we will plot a histogram showing how stars are distributed by distance (in kiloparsecs). The plot includes annotations for both the mean and median distance values.\n",
    "\n",
    "```python\n",
    "dist = t['distance_p50']\n",
    "plt.figure()\n",
    "plt.hist(dist / 1000, bins=25)\n",
    "plt.xlabel('Distance (kpc)', fontsize=12)\n",
    "plt.ylabel('Number of stars')\n",
    "plt.title('Distance distribution of stars')\n",
    "\n",
    "d_mean = np.mean(dist)\n",
    "d_median = np.median(dist)\n",
    "d_std = np.std(dist)\n",
    "\n",
    "plt.axvline(d_mean / 1000, color='r', linestyle='dashed', linewidth=1)\n",
    "plt.axvline(d_median / 1000, color='gray', linestyle='dashed', linewidth=1)\n",
    "plt.text(0.5, 0.9, 'Mean: {:.2f} kpc'.format(d_mean / 1000),\n",
    "         color='r', fontsize=12, transform=plt.gca().transAxes)\n",
    "plt.text(0.5, 0.85, 'Median: {:.2f} kpc'.format(d_median / 1000), \n",
    "         color='g', fontsize=12, transform=plt.gca().transAxes)\n",
    "plt.savefig('lmc_hist_dist.png')\n",
    "plt.show()\n",
    "```"
   ]
  },
  {
   "cell_type": "markdown",
   "metadata": {},
   "source": [
    "![Histogram LMC Distance](lmc_hist_dist.png) \n",
    "\n",
    "**Figure:** Histogram showing the distance distribution of stars in kiloparsecs. The red dashed line marks the mean distance, while the gray dashed line indicates the median distance. Annotations display the exact values of both metrics on the plot.\n"
   ]
  },
  {
   "cell_type": "markdown",
   "metadata": {},
   "source": [
    "### Creating a Color-Magnitude Diagram from External Catalog\n",
    "\n",
    "\n",
    "Finally, we will load an external catalog and create a CMD using F475W and F814W magnitudes.\n",
    "\n",
    "```python\n",
    "cat = Table.read('hlsp_scylla_hst_wfc3_lmc-04_multi_v1_st.fits')\n",
    "\n",
    "f475 = cat[\"F475W_VEGA\"]\n",
    "f814 = cat[\"F814W_VEGA\"]\n",
    "n = len(f475)\n",
    "\n",
    "col = f475 - f814\n",
    "mag = f475\n",
    "\n",
    "plt.figure()\n",
    "plt.plot(col, mag, '.b', ls='None', markersize=1, label='N = %s' % n)\n",
    "plt.legend()\n",
    "plt.xlabel('f475w - f814w')\n",
    "plt.ylabel('f475w')\n",
    "plt.title('hlsp_scylla_hst_wfc3_lmc-04_multi_v1_st')\n",
    "plt.xlim(-3, 6)\n",
    "plt.ylim(30, 17)\n",
    "plt.savefig('lmc_color_f475.png')\n",
    "plt.show()\n",
    "```"
   ]
  },
  {
   "cell_type": "markdown",
   "metadata": {},
   "source": [
    "![DHR LMC f475](lmc_color_f475.png)\n",
    "\n",
    "**Figure:** Color-magnitude diagram (CMD) showing the relation between color (`F475W - F814W`) and the `F475W` magnitude for stars from the catalog `hlsp_scylla_hst_wfc3_lmc-04_multi_v1_st.fits`. The plot displays a total of N stars (indicated in the legend) with blue markers.\n"
   ]
  }
 ],
 "metadata": {
  "kernelspec": {
   "display_name": "Python 3",
   "language": "python",
   "name": "python3"
  },
  "language_info": {
   "codemirror_mode": {
    "name": "ipython",
    "version": 3
   },
   "file_extension": ".py",
   "mimetype": "text/x-python",
   "name": "python",
   "nbconvert_exporter": "python",
   "pygments_lexer": "ipython3",
   "version": "3.10.12"
  }
 },
 "nbformat": 4,
 "nbformat_minor": 4
}
