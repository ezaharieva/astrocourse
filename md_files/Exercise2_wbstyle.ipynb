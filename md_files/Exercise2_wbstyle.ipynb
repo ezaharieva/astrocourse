{
 "cells": [
  {
   "cell_type": "markdown",
   "metadata": {},
   "source": [
    "# Exercise 2"
   ]
  },
  {
   "cell_type": "markdown",
   "metadata": {},
   "source": [
    "### Importing necessary libraries\n",
    "\n",
    "In this step, we will import essential Python libraries for numerical computations, data visualization, and astronomy-related data handling:\n",
    "\n",
    "```python\n",
    "import numpy as np\n",
    "import matplotlib.pyplot as plt\n",
    "from astropy.io import fits\n",
    "from astropy.table import Table\n",
    "from astropy import units as u\n",
    "plt.ion()\n",
    "import os\n",
    "```"
   ]
  },
  {
   "cell_type": "markdown",
   "metadata": {},
   "source": [
    "### Working with Physical Quantities and Units\n",
    "\n",
    "In this step, we will show how to defining physical quantities using Astropy units (`u`):\n",
    "\n",
    "```python\n",
    "a = 50.0 * u.meter\n",
    "b = (23, 45, 88) * u.meter\n",
    "print(a, b)\n",
    "```"
   ]
  },
  {
   "cell_type": "markdown",
   "metadata": {},
   "source": [
    "### Calculating the Mean of Quantities with Units\n",
    "\n",
    "Now, we will compute the average (mean) value of the physical quantities stored in the array `b`:\n",
    "\n",
    "```python\n",
    "np.mean(b)\n",
    "```"
   ]
  },
  {
   "cell_type": "markdown",
   "metadata": {},
   "source": [
    "### Performing Unit-Aware Arithmetic Operations\n",
    "\n",
    "In this step, we will calculate a velocity by dividing distance by time, explicitly handling units with Astropy:\n",
    "\n",
    "```python\n",
    "15 * u.meter / (3 * u.second)\n",
    "```"
   ]
  },
  {
   "cell_type": "markdown",
   "metadata": {},
   "source": [
    "### Defining and Displaying Astronomical Distances\n",
    "\n",
    "Next we will define a distance using parsecs, a common astronomical unit of measurement:\n",
    "\n",
    "```python\n",
    "x = 62 * u.parsec\n",
    "print(x)\n",
    "```"
   ]
  },
  {
   "cell_type": "markdown",
   "metadata": {},
   "source": [
    "### Defining Another Astronomical Distance\n",
    "\n",
    "In this step, we will define a second astronomical distance variable (`y`) using parsecs as units:\n",
    "\n",
    "```python\n",
    "y = 45 * u.parsec\n",
    "```"
   ]
  },
  {
   "cell_type": "markdown",
   "metadata": {},
   "source": [
    "### Calculating the Ratio Between Two Astronomical Distances\n",
    "\n",
    "We will calculate the dimensionless ratio of two distances (`x` and `y`), both defined in parsecs:\n",
    "\n",
    "```python\n",
    "x / y\n",
    "```"
   ]
  },
  {
   "cell_type": "markdown",
   "metadata": {},
   "source": [
    "### Extracting the Numerical Value from a Quantity with Units\n",
    "\n",
    "Now, we will extract only the numerical component from the distance variable `x`, stripping away its associated units:\n",
    "\n",
    "```python\n",
    "z = x.value\n",
    "z\n",
    "```"
   ]
  },
  {
   "cell_type": "markdown",
   "metadata": {},
   "source": [
    "### Calculating the Ratio Using Numerical Values (Without Units)\n",
    "\n",
    "Let's calculate the numerical ratio of the values of two distances (`x` and `y`) after removing their associated units:\n",
    "\n",
    "```python\n",
    "z = x.value / y.value\n",
    "```\n"
   ]
  },
  {
   "cell_type": "markdown",
   "metadata": {},
   "source": [
    "### Rounding the Numerical Result\n",
    "\n",
    "In this step, we will round the numerical value (`z`) to two decimal places:\n",
    "\n",
    "```python\n",
    "np.around(z, decimals=2)\n",
    "```"
   ]
  },
  {
   "cell_type": "markdown",
   "metadata": {},
   "source": [
    "### Checking the Data Type of a Variable\n",
    "\n",
    "Next we will check and display the Python data type of the variable `x`:\n",
    "\n",
    "```python\n",
    "type(x)\n",
    "```"
   ]
  },
  {
   "cell_type": "markdown",
   "metadata": {},
   "source": [
    "### Calculating Speeds from Distance and Time Arrays\n",
    "\n",
    "In this step, we will calculate speeds using arrays of distances (`b`) and corresponding times (`time`), handling units explicitly with Astropy:\n",
    "\n",
    "```python\n",
    "time = [10, 20, 30] * u.second\n",
    "print(time)\n",
    "```\n",
    "\n",
    "speed = b / time\n",
    "print(speed)"
   ]
  },
  {
   "cell_type": "markdown",
   "metadata": {},
   "source": [
    "### Plot of Wind Speed vs. Time\n",
    "\n",
    "The plot below demonstrates the relationship between wind speed and time, calculated from previously defined data arrays. Each point represents a specific measurement of wind speed (in meters per second) over corresponding time intervals (in seconds). Additionally, a dashed gray line (`y = x`) is included as a reference, helping visualize the distribution of the measurements relative to this reference line.\n",
    "\n",
    "```python\n",
    "plt.figure(figsize=(5,3))\n",
    "plt.plot(speed, time, ls='', color='#300500', marker='.', label='Wind Speed [m/s]')\n",
    "plt.xlabel(\"Speed [m/s]\", fontsize=14)\n",
    "plt.ylabel(\"Time [s]\", fontsize=14)\n",
    "plt.legend()\n",
    "\n",
    "l1 = np.linspace(0,100, 2)\n",
    "l2 = np.linspace(0,100, 2)\n",
    "\n",
    "plt.plot(l1, l2, color=\"gray\", ls='--')\n",
    "\n",
    "```"
   ]
  },
  {
   "cell_type": "markdown",
   "metadata": {},
   "source": [
    "![Wind_Speed](Wind_speed.png)\n",
    "\n",
    "**Figure:** Scatter plot showing wind speed versus time. Each dot represents a measured wind speed (in m/s) at a given time (in seconds). The dashed gray line represents the `y = x` reference, highlighting how the data points deviate from a one-to-one relationship between speed and time.\n"
   ]
  }
 ],
 "metadata": {
  "kernelspec": {
   "display_name": "Python 3",
   "language": "python",
   "name": "python3"
  },
  "language_info": {
   "codemirror_mode": {
    "name": "ipython",
    "version": 3
   },
   "file_extension": ".py",
   "mimetype": "text/x-python",
   "name": "python",
   "nbconvert_exporter": "python",
   "pygments_lexer": "ipython3",
   "version": "3.10.12"
  }
 },
 "nbformat": 4,
 "nbformat_minor": 4
}
